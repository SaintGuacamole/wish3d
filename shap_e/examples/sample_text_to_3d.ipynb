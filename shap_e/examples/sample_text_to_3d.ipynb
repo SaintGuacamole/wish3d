{
 "cells": [
  {
   "cell_type": "code",
   "execution_count": 5,
   "id": "964ccced",
   "metadata": {},
   "outputs": [],
   "source": [
    "import torch\n",
    "\n",
    "from shap_e.diffusion.sample import sample_latents\n",
    "from shap_e.diffusion.gaussian_diffusion import diffusion_from_config\n",
    "from shap_e.models.download import load_model, load_config\n",
    "from shap_e.util.notebooks import create_pan_cameras, decode_latent_images, gif_widget"
   ]
  },
  {
   "cell_type": "code",
   "execution_count": 6,
   "id": "8eed3a76",
   "metadata": {},
   "outputs": [
    {
     "name": "stdout",
     "output_type": "stream",
     "text": [
      "Device: cuda\n"
     ]
    }
   ],
   "source": [
    "device = torch.device('cuda' if torch.cuda.is_available() else 'cpu')\n",
    "print(f\"Device: {device}\")"
   ]
  },
  {
   "cell_type": "code",
   "execution_count": 7,
   "id": "2d922637",
   "metadata": {},
   "outputs": [],
   "source": [
    "xm = load_model('transmitter', device=device)\n",
    "model = load_model('text300M', device=device)\n",
    "diffusion = diffusion_from_config(load_config('diffusion'))"
   ]
  },
  {
   "cell_type": "code",
   "execution_count": 8,
   "id": "53d329d0",
   "metadata": {},
   "outputs": [
    {
     "name": "stdout",
     "output_type": "stream",
     "text": [
      "Prompt: ['a barbie doll']\n"
     ]
    },
    {
     "data": {
      "text/plain": "  0%|          | 0/32 [00:00<?, ?it/s]",
      "application/vnd.jupyter.widget-view+json": {
       "version_major": 2,
       "version_minor": 0,
       "model_id": "c082f60909ed4995acaaffde0d439de8"
      }
     },
     "metadata": {},
     "output_type": "display_data"
    },
    {
     "name": "stdout",
     "output_type": "stream",
     "text": [
      "Elapsed diffusion: 4.250999927520752\n",
      "torch.Size([11232, 3])\n",
      "torch.Size([22444, 3])\n",
      "torch.Size([11232])\n",
      "torch.Size([11232])\n",
      "torch.Size([11232])\n",
      "{}\n"
     ]
    }
   ],
   "source": [
    "\n",
    "import time\n",
    "\n",
    "guidance_scale = 15.0\n",
    "prompt = [\"a barbie doll\"] * 1\n",
    "batch_size = len(prompt)\n",
    "\n",
    "print(f\"Prompt: {prompt}\")\n",
    "\n",
    "start_time = time.time()\n",
    "latents = sample_latents(\n",
    "    batch_size=batch_size,\n",
    "    model=model,\n",
    "    diffusion=diffusion,\n",
    "    guidance_scale=guidance_scale,\n",
    "    model_kwargs=dict(texts=prompt),\n",
    "    progress=True,\n",
    "    clip_denoised=True,\n",
    "    use_fp16=True,\n",
    "    use_karras=True,\n",
    "    karras_steps=32,\n",
    "    sigma_min=1e-3,\n",
    "    sigma_max=160,\n",
    "    s_churn=0,\n",
    ")\n",
    "\n",
    "print(f\"Elapsed diffusion: {(time.time() - start_time)}\")\n",
    "\n",
    "from shap_e.util.notebooks import decode_latent_mesh\n",
    "p = decode_latent_mesh(xm, latents[0])\n",
    "print(p.verts.size())\n",
    "print(p.faces.size())\n",
    "print(p.vertex_channels[\"R\"].size())\n",
    "print(p.vertex_channels[\"G\"].size())\n",
    "print(p.vertex_channels[\"B\"].size())\n",
    "print(p.face_channels)\n",
    "exit()"
   ]
  },
  {
   "cell_type": "code",
   "execution_count": 9,
   "id": "633da2ec",
   "metadata": {},
   "outputs": [
    {
     "name": "stdout",
     "output_type": "stream",
     "text": [
      "Elapsed decode-0: 2.1469991207122803\n"
     ]
    },
    {
     "data": {
      "text/plain": "HTML(value='<img src=\"data:image/gif;base64,R0lGODlhQABAAIcAAPjT4/nR4/jQ4vDLzurM0efL0ObMzu/K2fLJzvLJze/KzO7H1P…",
      "application/vnd.jupyter.widget-view+json": {
       "version_major": 2,
       "version_minor": 0,
       "model_id": "d10fa3824d6246359442da7c0dd5a6d4"
      }
     },
     "metadata": {},
     "output_type": "display_data"
    }
   ],
   "source": [
    "render_mode = 'nerf' # you can change this to 'stf'\n",
    "size = 64 # this is the size of the renders; higher values take longer to render.\n",
    "\n",
    "cameras = create_pan_cameras(size, device)\n",
    "for i, latent in enumerate(latents):\n",
    "    start_time = time.time()\n",
    "    images = decode_latent_images(xm, latent, cameras, rendering_mode=render_mode)\n",
    "    print(f\"Elapsed decode-{i}: {(time.time() - start_time)}\")\n",
    "    display(gif_widget(images))"
   ]
  },
  {
   "cell_type": "code",
   "execution_count": 10,
   "id": "85a4dce4",
   "metadata": {},
   "outputs": [],
   "source": [
    "# Example of saving the latents as meshes.\n",
    "from shap_e.util.notebooks import decode_latent_mesh\n",
    "\n",
    "for i, latent in enumerate(latents):\n",
    "    t = decode_latent_mesh(xm, latent).tri_mesh()\n",
    "    with open(f'example_mesh_{i}.ply', 'wb') as f:\n",
    "        t.write_ply(f)\n",
    "    with open(f'example_mesh_{i}.obj', 'w') as f:\n",
    "        t.write_obj(f)"
   ]
  }
 ],
 "metadata": {
  "kernelspec": {
   "display_name": "Python 3 (ipykernel)",
   "language": "python",
   "name": "python3"
  },
  "language_info": {
   "codemirror_mode": {
    "name": "ipython",
    "version": 3
   },
   "file_extension": ".py",
   "mimetype": "text/x-python",
   "name": "python",
   "nbconvert_exporter": "python",
   "pygments_lexer": "ipython3",
   "version": "3.11.3"
  }
 },
 "nbformat": 4,
 "nbformat_minor": 5
}